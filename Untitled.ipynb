import pandas as pd 
import numpy as np


data = pd.read_csv('heart_disease.csv')


data.drop(columns=['education'],inplace=True)


 data.dropna(inplace=True)


data['Gender'] = data['Gender'].replace(['Male','Female'],[1,0])


data.prevalentStroke.unique()


data['prevalentStroke'] = data['prevalentStroke'].replace(['yes','no'],[1,0])


data['Heart_ stroke'].unique()


data['Heart_ stroke'] = data['Heart_ stroke'].replace(['No','yes'],[0,1])


data


data_input = data.drop(columns=['Heart_ stroke'])
data_output = data['Heart_ stroke']


data_output.value_counts()


from imblearn.over_sampling import SMOTE 


sm = SMOTE(random_state=2)


data_input, data_output = sm.fit_resample(data_input, data_output.ravel())


np.unique(data_output, return_counts=True)


from sklearn.model_selection import train_test_split
from sklearn.linear_model import LogisticRegression


x_train, x_test, y_train, y_test = train_test_split(data_input, data_output, test_size=0.2)


model = LogisticRegression()


model.fit(x_train, y_train)


model.score(x_test, y_test)


input = np.array([[0,59,0,0,0,0,1,0,209,150,85,20.77,90,88]])


x = model.predict(input)


x[0]


import pickle as pk 


pk.dump(model, open('Heart_disease_model.pkl','wb'))


data_input



